{
 "cells": [
  {
   "cell_type": "markdown",
   "metadata": {},
   "source": [
    "# Probability"
   ]
  },
  {
   "cell_type": "markdown",
   "metadata": {},
   "source": [
    "## Reto 1\n",
    "Hay una caja con 10 bolas blancas, 12 bolas rojas y 8 bolas negras. Calcula la probabilidad de:\n",
    "* Sacar una bola blanca.\n",
    "* Sacar una bola blanca en la primera extracción y una bola negra en la segunda extracción sin reemplazar la primera.\n",
    "* Sacar una bola blanca en la primera extracción y una bola negra en la segunda extracción reemplazando la primera.\n",
    "* Sacar 3 bolas y que sean todas de diferentes colores."
   ]
  },
  {
   "cell_type": "code",
   "execution_count": 16,
   "metadata": {},
   "outputs": [
    {
     "name": "stdout",
     "output_type": "stream",
     "text": [
      "0.3333333333333333\n",
      "0.09195402298850575\n",
      "0.08888888888888888\n",
      "0.03940886699507389\n"
     ]
    }
   ],
   "source": [
    "# YOUR CODE HERE\n",
    "white = 10\n",
    "red = 12\n",
    "black = 8\n",
    "total = white + red + black\n",
    "\n",
    "p_of_white = white / total\n",
    "print(p_of_white)\n",
    "\n",
    "prob_white_black_no_replacement = (white / total) * (black / (total - 1))\n",
    "print(prob_white_black_no_replacement)\n",
    "\n",
    "prob_white_black_with_replacement = (white / total) * (black / (total))\n",
    "print(prob_white_black_with_replacement)\n",
    "\n",
    "prob_diff_colors = (white / total) * (red / (total - 1)) * (black / (total - 2))\n",
    "print(prob_diff_colors)"
   ]
  },
  {
   "cell_type": "markdown",
   "metadata": {},
   "source": [
    "## Reto 2\n",
    "\n",
    "Quieres ir de picnic el sábado. Odias la lluvia y quieres planificar tu fin de semana. Para ayudarte a tomar una decisión, recopilas los siguientes datos sobre los días lluviosos:\n",
    "\n",
    "* El 40% de todos los días están nublados.\n",
    "* Aproximadamente el 50% de los días nublados son lluviosos.\n",
    "* Aproximadamente el 20% de los días no nublados son lluviosos.\n",
    "\n",
    "¿Cuál es la probabilidad de que llueva el próximo sábado?"
   ]
  },
  {
   "cell_type": "code",
   "execution_count": 22,
   "metadata": {},
   "outputs": [
    {
     "name": "stdout",
     "output_type": "stream",
     "text": [
      "0.32\n"
     ]
    }
   ],
   "source": [
    "# YOUR CODE HERE\n",
    "\n",
    "prob_cloudy = 0.4\n",
    "prob_rainy = 0.5 * prob_cloudy\n",
    "prob_rainy_but_sunny = 0.2 * (1 - prob_cloudy)\n",
    "\n",
    "prob_of_Sat_rain = prob_rainy + prob_rainy_but_sunny\n",
    "print(prob_of_Sat_rain)"
   ]
  },
  {
   "cell_type": "markdown",
   "metadata": {},
   "source": [
    "## Reto 3\n",
    "\n",
    "A y B son eventos de una probabilidad tal que \\(P(A) = 0.3\\), \\(P(B) = 0.6\\) y \\(P(A \\cap B) = 0.1\\)\n",
    "\n",
    "¿Cuáles de las siguientes afirmaciones son verdaderas?\n",
    "**SUGERENCIA: dibuja un gran diagrama de Venn a tu lado**\n",
    "* \\(P(\\overline{A}) = 0.7\\)\n",
    "* \\(P(A \\cup B) = 0.6\\)\n",
    "* \\(P(A \\cap \\overline{B}) = 0.2\\)\n",
    "* \\(P(A \\cup \\overline{A}) = 1\\)  \n",
    "* \\(P(A \\cap (B \\cup \\overline{B})) = 0.4\\)\n",
    "* \\(P(\\overline{A} \\cap \\overline{B}) = 0.3\\)\n",
    "* \\(P(\\overline{A \\cap B}) = 0.9\\)"
   ]
  },
  {
   "cell_type": "code",
   "execution_count": 28,
   "metadata": {},
   "outputs": [
    {
     "name": "stdout",
     "output_type": "stream",
     "text": [
      "0.7\n",
      "{'P(¬A) = 0.7': True, 'P(A ∪ B) = 0.6': False, 'P(A ∩ ¬B) = 0.2': False, 'P(A ∪ ¬A) = 1': True, 'P(A ∩ (B ∪ ¬B)) = 0.4': False, 'P(¬A ∩ ¬B) = 0.3': False, 'P(¬(A ∩ B)) = 0.9': True}\n"
     ]
    }
   ],
   "source": [
    "# YOUR CODE HERE\n",
    "\n",
    "\n",
    "P_A = 0.3         \n",
    "P_B = 0.6          \n",
    "P_A_and_B = 0.1    # P(A ∩ B)\n",
    "\n",
    "# Calculating other probabilities\n",
    "P_not_A = 1 - P_A                      # P(¬A)\n",
    "P_A_or_B = P_A + P_B - P_A_and_B      # P(A ∪ B)\n",
    "P_A_and_not_B = P_A - P_A_and_B        # P(A ∩ ¬B)\n",
    "P_A_or_not_A = 1                       # P(A ∪ ¬A) is always 1\n",
    "P_A_and_B_or_not_B = P_A               # P(A ∩ (B ∪ ¬B)) = P(A)\n",
    "P_not_A_and_not_B = 1 - P_A_or_B      # P(¬A ∩ ¬B)\n",
    "P_not_A_and_B = 1 - P_A_and_B          # P(¬(A ∩ B))\n",
    "\n",
    "\n",
    "\n",
    "# Checking the statements\n",
    "statements = {\n",
    "    \"P(¬A) = 0.7\": P_not_A == 0.7,\n",
    "    \"P(A ∪ B) = 0.6\": P_A_or_B == 0.6,\n",
    "    \"P(A ∩ ¬B) = 0.2\": P_A_and_not_B == 0.2,\n",
    "    \"P(A ∪ ¬A) = 1\": P_A_or_not_A == 1,\n",
    "    \"P(A ∩ (B ∪ ¬B)) = 0.4\": P_A_and_B_or_not_B == 0.4,\n",
    "    \"P(¬A ∩ ¬B) = 0.3\": P_not_A_and_not_B == 0.3,\n",
    "    \"P(¬(A ∩ B)) = 0.9\": P_not_A_and_B == 0.9\n",
    "}\n",
    "print(statements)"
   ]
  },
  {
   "cell_type": "markdown",
   "metadata": {},
   "source": [
    "## Reto 4\n",
    "\n",
    "* Si alguien viaja a China, la probabilidad de contraer Covid es del 1%\n",
    "* Si alguien viaja a Italia, la probabilidad de contraer Covid es del 20%\n",
    "\n",
    "Lanzo un dado con números 1, 2, 3, 4, 5, 6:\n",
    "* Si sale 1: Vuelo a Italia\n",
    "* Si no sale 1: Vuelo a China\n",
    "\n",
    "Durante mi viaje, contraje Covid. ¿Cuál es la probabilidad de que haya volado a China?"
   ]
  },
  {
   "cell_type": "code",
   "execution_count": 36,
   "metadata": {},
   "outputs": [
    {
     "name": "stdout",
     "output_type": "stream",
     "text": [
      "0.2\n"
     ]
    }
   ],
   "source": [
    "# YOUR CODE HERE\n",
    "\n",
    "prob_covid_in_china = 0.01\n",
    "prob_covid_in_italy = 0.2\n",
    "\n",
    "fly_to_italy = 1 / 6\n",
    "fly_to_china = 5 / 6\n",
    "\n",
    "prob_covid = (prob_covid_in_china * fly_to_china) + (prob_covid_in_italy * fly_to_italy)\n",
    "\n",
    "covid_bcs_in_china = (fly_to_china * prob_covid_in_china) / prob_covid\n",
    "print(covid_bcs_in_china)"
   ]
  },
  {
   "cell_type": "markdown",
   "metadata": {},
   "source": [
    "## BONUS\n",
    "\n",
    "Lanzas 2 dados. ¿Cuál es la probabilidad de que la suma de los números sea 7? ¿Y 8? ¿Y 9? Luego simula 10000 veces y dibuja un gráfico de conteo.\n",
    "\n",
    "tu explicación aquí"
   ]
  },
  {
   "cell_type": "code",
   "execution_count": 82,
   "metadata": {},
   "outputs": [
    {
     "name": "stdout",
     "output_type": "stream",
     "text": [
      "[(1, 1), (1, 2), (1, 3), (1, 4), (1, 5), (1, 6), (2, 1), (2, 2), (2, 3), (2, 4), (2, 5), (2, 6), (3, 1), (3, 2), (3, 3), (3, 4), (3, 5), (3, 6), (4, 1), (4, 2), (4, 3), (4, 4), (4, 5), (4, 6), (5, 1), (5, 2), (5, 3), (5, 4), (5, 5), (5, 6), (6, 1), (6, 2), (6, 3), (6, 4), (6, 5), (6, 6)]\n",
      "[2, 3, 4, 5, 6, 7, 3, 4, 5, 6, 7, 8, 4, 5, 6, 7, 8, 9, 5, 6, 7, 8, 9, 10, 6, 7, 8, 9, 10, 11, 7, 8, 9, 10, 11, 12]\n",
      "0.16666666666666666\n",
      "0.1388888888888889\n",
      "0.1111111111111111\n",
      "[9 5 7 ... 5 9 9]\n"
     ]
    },
    {
     "data": {
      "image/png": "[encoded data removed]",
      "text/plain": [
       "<Figure size 1000x600 with 1 Axes>"
      ]
     },
     "metadata": {},
     "output_type": "display_data"
    }
   ],
   "source": [
    "import numpy as np\n",
    "import matplotlib.pyplot as plt\n",
    "import seaborn as sns\n",
    "\n",
    "outcomes = [(i, j) for i in range(1, 7) for j in range(1, 7)]\n",
    "print(outcomes)\n",
    "sums = [sum(outcome) for outcome in outcomes]\n",
    "print(sums)\n",
    "\n",
    "\n",
    "prob_of_sum_7 = sums.count(7) / len(outcomes)\n",
    "print(prob_of_sum_7)\n",
    "\n",
    "prob_of_sum_8 = sums.count(8) / len(outcomes)\n",
    "print(prob_of_sum_8)\n",
    "\n",
    "prob_of_sum_9 = sums.count(9) / len(outcomes)\n",
    "print(prob_of_sum_9)\n",
    "\n",
    "\n",
    "num_rolls = 10000\n",
    "rolls = np.random.randint(1, 7, size=(num_rolls, 2))  # Rolling two dice\n",
    "sums = rolls.sum(axis=1)  # Sum of each roll\n",
    "\n",
    "print(sums)\n",
    "\n",
    "# Create a count plot of the sums\n",
    "plt.figure(figsize=(10, 6))\n",
    "sns.countplot(x=sums)\n",
    "plt.title('Count of Sums When Rolling Two Dice (10,000 Rolls)')\n",
    "plt.xlabel('Sum of Dice')\n",
    "plt.ylabel('Count')\n",
    "plt.xticks(range(0, 12))\n",
    "plt.show()"
   ]
  }
 ],
 "metadata": {
  "kernelspec": {
   "display_name": "Python 3 (ipykernel)",
   "language": "python",
   "name": "python3"
  },
  "language_info": {
   "codemirror_mode": {
    "name": "ipython",
    "version": 3
   },
   "file_extension": ".py",
   "mimetype": "text/x-python",
   "name": "python",
   "nbconvert_exporter": "python",
   "pygments_lexer": "ipython3",
   "version": "3.12.3"
  },
  "toc": {
   "base_numbering": 1,
   "nav_menu": {},
   "number_sections": false,
   "sideBar": true,
   "skip_h1_title": false,
   "title_cell": "Table of Contents",
   "title_sidebar": "Contents",
   "toc_cell": false,
   "toc_position": {
    "height": "calc(100% - 180px)",
    "left": "10px",
    "top": "150px",
    "width": "296.475px"
   },
   "toc_section_display": true,
   "toc_window_display": false
  },
  "varInspector": {
   "cols": {
    "lenName": 16,
    "lenType": 16,
    "lenVar": 40
   },
   "kernels_config": {
    "python": {
     "delete_cmd_postfix": "",
     "delete_cmd_prefix": "del ",
     "library": "var_list.py",
     "varRefreshCmd": "print(var_dic_list())"
    },
    "r": {
     "delete_cmd_postfix": ") ",
     "delete_cmd_prefix": "rm(",
     "library": "var_list.r",
     "varRefreshCmd": "cat(var_dic_list()) "
    }
   },
   "types_to_exclude": [
    "module",
    "function",
    "builtin_function_or_method",
    "instance",
    "_Feature"
   ],
   "window_display": false
  }
 },
 "nbformat": 4,
 "nbformat_minor": 4
}
